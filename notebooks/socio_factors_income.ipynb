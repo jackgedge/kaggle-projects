{
 "cells": [
  {
   "cell_type": "code",
   "execution_count": 98,
   "id": "dd125efc",
   "metadata": {},
   "outputs": [
    {
     "name": "stdout",
     "output_type": "stream",
     "text": [
      "Path to dataset files: /Users/jackgedge/.cache/kagglehub/datasets/aldol07/socioeconomic-factors-and-income-dataset/versions/1\n"
     ]
    }
   ],
   "source": [
    "# import libraries\n",
    "import kagglehub\n",
    "\n",
    "# Download latest version\n",
    "path = kagglehub.dataset_download(\"aldol07/socioeconomic-factors-and-income-dataset\")\n",
    "\n",
    "print(\"Path to dataset files:\", path)\n"
   ]
  },
  {
   "cell_type": "code",
   "execution_count": 99,
   "id": "72ef7b68",
   "metadata": {},
   "outputs": [],
   "source": [
    "# Import other libraries\n",
    "import pandas as pd\n",
    "import seaborn as sns\n",
    "import os\n",
    "from pathlib import Path\n",
    "from matplotlib import pyplot as plt"
   ]
  },
  {
   "cell_type": "code",
   "execution_count": 100,
   "id": "c5c41987",
   "metadata": {},
   "outputs": [],
   "source": [
    "# Read files in path\n",
    "csv_files = [str(file) for file in Path(path).rglob('*.csv')]\n",
    "df = pd.read_csv(csv_files[0])"
   ]
  },
  {
   "cell_type": "code",
   "execution_count": 101,
   "id": "b1a627b0",
   "metadata": {},
   "outputs": [
    {
     "name": "stdout",
     "output_type": "stream",
     "text": [
      "<class 'pandas.core.frame.DataFrame'>\n",
      "RangeIndex: 2000 entries, 0 to 1999\n",
      "Data columns (total 8 columns):\n",
      " #   Column           Non-Null Count  Dtype \n",
      "---  ------           --------------  ----- \n",
      " 0   ID               2000 non-null   int64 \n",
      " 1   Sex              2000 non-null   int64 \n",
      " 2   Marital status   2000 non-null   object\n",
      " 3   Age              2000 non-null   int64 \n",
      " 4   Education        2000 non-null   object\n",
      " 5   Income           2000 non-null   int64 \n",
      " 6   Occupation       2000 non-null   object\n",
      " 7   Settlement size  2000 non-null   int64 \n",
      "dtypes: int64(5), object(3)\n",
      "memory usage: 125.1+ KB\n"
     ]
    }
   ],
   "source": [
    "# Display info\n",
    "df.info()"
   ]
  },
  {
   "cell_type": "code",
   "execution_count": 102,
   "id": "282d0060",
   "metadata": {},
   "outputs": [
    {
     "data": {
      "text/html": [
       "<div>\n",
       "<style scoped>\n",
       "    .dataframe tbody tr th:only-of-type {\n",
       "        vertical-align: middle;\n",
       "    }\n",
       "\n",
       "    .dataframe tbody tr th {\n",
       "        vertical-align: top;\n",
       "    }\n",
       "\n",
       "    .dataframe thead th {\n",
       "        text-align: right;\n",
       "    }\n",
       "</style>\n",
       "<table border=\"1\" class=\"dataframe\">\n",
       "  <thead>\n",
       "    <tr style=\"text-align: right;\">\n",
       "      <th></th>\n",
       "      <th>ID</th>\n",
       "      <th>Sex</th>\n",
       "      <th>Marital status</th>\n",
       "      <th>Age</th>\n",
       "      <th>Education</th>\n",
       "      <th>Income</th>\n",
       "      <th>Occupation</th>\n",
       "      <th>Settlement size</th>\n",
       "    </tr>\n",
       "  </thead>\n",
       "  <tbody>\n",
       "    <tr>\n",
       "      <th>0</th>\n",
       "      <td>100000001</td>\n",
       "      <td>0</td>\n",
       "      <td>single</td>\n",
       "      <td>67</td>\n",
       "      <td>university</td>\n",
       "      <td>124670</td>\n",
       "      <td>skilled employee / official</td>\n",
       "      <td>2</td>\n",
       "    </tr>\n",
       "    <tr>\n",
       "      <th>1</th>\n",
       "      <td>100000002</td>\n",
       "      <td>1</td>\n",
       "      <td>non-single (divorced / separated / married / w...</td>\n",
       "      <td>22</td>\n",
       "      <td>high school</td>\n",
       "      <td>150773</td>\n",
       "      <td>skilled employee / official</td>\n",
       "      <td>2</td>\n",
       "    </tr>\n",
       "    <tr>\n",
       "      <th>2</th>\n",
       "      <td>100000003</td>\n",
       "      <td>0</td>\n",
       "      <td>single</td>\n",
       "      <td>49</td>\n",
       "      <td>high school</td>\n",
       "      <td>89210</td>\n",
       "      <td>unemployed / unskilled</td>\n",
       "      <td>0</td>\n",
       "    </tr>\n",
       "    <tr>\n",
       "      <th>3</th>\n",
       "      <td>100000004</td>\n",
       "      <td>0</td>\n",
       "      <td>single</td>\n",
       "      <td>45</td>\n",
       "      <td>high school</td>\n",
       "      <td>171565</td>\n",
       "      <td>skilled employee / official</td>\n",
       "      <td>1</td>\n",
       "    </tr>\n",
       "    <tr>\n",
       "      <th>4</th>\n",
       "      <td>100000005</td>\n",
       "      <td>0</td>\n",
       "      <td>single</td>\n",
       "      <td>53</td>\n",
       "      <td>high school</td>\n",
       "      <td>149031</td>\n",
       "      <td>skilled employee / official</td>\n",
       "      <td>1</td>\n",
       "    </tr>\n",
       "  </tbody>\n",
       "</table>\n",
       "</div>"
      ],
      "text/plain": [
       "          ID  Sex                                     Marital status  Age  \\\n",
       "0  100000001    0                                             single   67   \n",
       "1  100000002    1  non-single (divorced / separated / married / w...   22   \n",
       "2  100000003    0                                             single   49   \n",
       "3  100000004    0                                             single   45   \n",
       "4  100000005    0                                             single   53   \n",
       "\n",
       "     Education  Income                   Occupation  Settlement size  \n",
       "0   university  124670  skilled employee / official                2  \n",
       "1  high school  150773  skilled employee / official                2  \n",
       "2  high school   89210       unemployed / unskilled                0  \n",
       "3  high school  171565  skilled employee / official                1  \n",
       "4  high school  149031  skilled employee / official                1  "
      ]
     },
     "execution_count": 102,
     "metadata": {},
     "output_type": "execute_result"
    }
   ],
   "source": [
    "df.head()"
   ]
  },
  {
   "cell_type": "code",
   "execution_count": 103,
   "id": "cfc31f03",
   "metadata": {},
   "outputs": [
    {
     "data": {
      "text/plain": [
       "True"
      ]
     },
     "execution_count": 103,
     "metadata": {},
     "output_type": "execute_result"
    }
   ],
   "source": [
    "# check IDs are unique\n",
    "df['ID'].nunique() == len(df['ID'])"
   ]
  },
  {
   "cell_type": "code",
   "execution_count": 104,
   "id": "10566934",
   "metadata": {},
   "outputs": [
    {
     "data": {
      "text/plain": [
       "array([0, 1])"
      ]
     },
     "execution_count": 104,
     "metadata": {},
     "output_type": "execute_result"
    }
   ],
   "source": [
    "# Show unique values in Sex column\n",
    "df['Sex'].unique()"
   ]
  },
  {
   "cell_type": "code",
   "execution_count": null,
   "id": "35e42cb7",
   "metadata": {},
   "outputs": [
    {
     "data": {
      "text/plain": [
       "Sex\n",
       "Female    1086\n",
       "Male       914\n",
       "Name: count, dtype: int64"
      ]
     },
     "execution_count": 105,
     "metadata": {},
     "output_type": "execute_result"
    }
   ],
   "source": [
    "# Cast Sex to type string\n",
    "df['Sex'] = df['Sex'].astype(str)\n",
    "\n",
    "# Create gender map\n",
    "gender_map = {\n",
    "    '0': 'Female',\n",
    "    '1': 'Male'\n",
    "}\n",
    "\n",
    "# Map gender to Sex column\n",
    "df['Sex'] = df['Sex'].map(gender_map)\n",
    "\n",
    "df['Sex'] = df['Sex'].astype('category') # Set as categorical variable\n",
    "\n",
    "df['Sex'].value_counts()"
   ]
  },
  {
   "cell_type": "code",
   "execution_count": 116,
   "id": "fe0151d0",
   "metadata": {},
   "outputs": [
    {
     "data": {
      "text/plain": [
       "[Text(0.5, 1.0, 'Gender Counts (n=2000)')]"
      ]
     },
     "execution_count": 116,
     "metadata": {},
     "output_type": "execute_result"
    },
    {
     "data": {
      "image/png": "[encoded data removed]",
      "text/plain": [
       "<Figure size 1000x500 with 1 Axes>"
      ]
     },
     "metadata": {},
     "output_type": "display_data"
    }
   ],
   "source": [
    "plot_data = df['Sex'].value_counts().reset_index()\n",
    "plot_data.columns = ['Gender', 'Count']\n",
    "\n",
    "plt.figure(figsize=(10,5)) # figure\n",
    "ax = sns.barplot(data=plot_data,\n",
    "                 x='Gender',\n",
    "                 y='Count')\n",
    "for p in ax.patches:\n",
    "    ax.annotate(f\"{p.get_height():.0f}\",\n",
    "                  (p.get_x() + p.get_width() / 2., p.get_height()),\n",
    "                  ha='center', va='bottom')\n",
    "ax.set(title=f\"Gender Counts (n={len(df)})\")"
   ]
  },
  {
   "cell_type": "code",
   "execution_count": 106,
   "id": "a3d269ff",
   "metadata": {},
   "outputs": [
    {
     "data": {
      "text/plain": [
       "array(['Single', 'Non-Single (Divorced / Separated / Married / Widowed)'],\n",
       "      dtype=object)"
      ]
     },
     "execution_count": 106,
     "metadata": {},
     "output_type": "execute_result"
    }
   ],
   "source": [
    "df['Marital status'] = df['Marital status'].astype(str).str.strip().str.title() # cast to string variable\n",
    "df['Marital status'].unique() # identify unique values"
   ]
  },
  {
   "cell_type": "code",
   "execution_count": 107,
   "id": "adb45382",
   "metadata": {},
   "outputs": [],
   "source": [
    "df['Marital status'] = df['Marital status'].astype('category') # cast as categorical variable"
   ]
  },
  {
   "cell_type": "code",
   "execution_count": null,
   "id": "d657856c",
   "metadata": {},
   "outputs": [
    {
     "data": {
      "image/png": "[encoded data removed]",
      "text/plain": [
       "<Figure size 1000x500 with 1 Axes>"
      ]
     },
     "metadata": {},
     "output_type": "display_data"
    }
   ],
   "source": [
    "plot_data = df['Marital status'].value_counts().reset_index()\n",
    "plot_data.columns = ['Marital Status', 'Count']\n",
    "# plot data as bar\n",
    "plt.figure(figsize=(10,5))\n",
    "ax = sns.barplot(data=plot_data,\n",
    "                 x='Marital Status',\n",
    "                 y='Count')\n",
    "for p in ax.patches:\n",
    "    ax.annotate(f\"{p.get_height():.0f}\", # get label\n",
    "                (p.get_x() + p.get_width() / 2., p.get_height()), # position\n",
    "                ha='center', va='bottom') # alignment\n",
    "plt.show()"
   ]
  },
  {
   "cell_type": "code",
   "execution_count": 117,
   "id": "57006954",
   "metadata": {},
   "outputs": [
    {
     "data": {
      "text/html": [
       "<div>\n",
       "<style scoped>\n",
       "    .dataframe tbody tr th:only-of-type {\n",
       "        vertical-align: middle;\n",
       "    }\n",
       "\n",
       "    .dataframe tbody tr th {\n",
       "        vertical-align: top;\n",
       "    }\n",
       "\n",
       "    .dataframe thead th {\n",
       "        text-align: right;\n",
       "    }\n",
       "</style>\n",
       "<table border=\"1\" class=\"dataframe\">\n",
       "  <thead>\n",
       "    <tr style=\"text-align: right;\">\n",
       "      <th></th>\n",
       "      <th>ID</th>\n",
       "      <th>Sex</th>\n",
       "      <th>Marital status</th>\n",
       "      <th>Age</th>\n",
       "      <th>Education</th>\n",
       "      <th>Income</th>\n",
       "      <th>Occupation</th>\n",
       "      <th>Settlement size</th>\n",
       "    </tr>\n",
       "  </thead>\n",
       "  <tbody>\n",
       "    <tr>\n",
       "      <th>0</th>\n",
       "      <td>100000001</td>\n",
       "      <td>Female</td>\n",
       "      <td>Single</td>\n",
       "      <td>67</td>\n",
       "      <td>university</td>\n",
       "      <td>124670</td>\n",
       "      <td>skilled employee / official</td>\n",
       "      <td>2</td>\n",
       "    </tr>\n",
       "    <tr>\n",
       "      <th>1</th>\n",
       "      <td>100000002</td>\n",
       "      <td>Male</td>\n",
       "      <td>Non-Single (Divorced / Separated / Married / W...</td>\n",
       "      <td>22</td>\n",
       "      <td>high school</td>\n",
       "      <td>150773</td>\n",
       "      <td>skilled employee / official</td>\n",
       "      <td>2</td>\n",
       "    </tr>\n",
       "    <tr>\n",
       "      <th>2</th>\n",
       "      <td>100000003</td>\n",
       "      <td>Female</td>\n",
       "      <td>Single</td>\n",
       "      <td>49</td>\n",
       "      <td>high school</td>\n",
       "      <td>89210</td>\n",
       "      <td>unemployed / unskilled</td>\n",
       "      <td>0</td>\n",
       "    </tr>\n",
       "    <tr>\n",
       "      <th>3</th>\n",
       "      <td>100000004</td>\n",
       "      <td>Female</td>\n",
       "      <td>Single</td>\n",
       "      <td>45</td>\n",
       "      <td>high school</td>\n",
       "      <td>171565</td>\n",
       "      <td>skilled employee / official</td>\n",
       "      <td>1</td>\n",
       "    </tr>\n",
       "    <tr>\n",
       "      <th>4</th>\n",
       "      <td>100000005</td>\n",
       "      <td>Female</td>\n",
       "      <td>Single</td>\n",
       "      <td>53</td>\n",
       "      <td>high school</td>\n",
       "      <td>149031</td>\n",
       "      <td>skilled employee / official</td>\n",
       "      <td>1</td>\n",
       "    </tr>\n",
       "  </tbody>\n",
       "</table>\n",
       "</div>"
      ],
      "text/plain": [
       "          ID     Sex                                     Marital status  Age  \\\n",
       "0  100000001  Female                                             Single   67   \n",
       "1  100000002    Male  Non-Single (Divorced / Separated / Married / W...   22   \n",
       "2  100000003  Female                                             Single   49   \n",
       "3  100000004  Female                                             Single   45   \n",
       "4  100000005  Female                                             Single   53   \n",
       "\n",
       "     Education  Income                   Occupation  Settlement size  \n",
       "0   university  124670  skilled employee / official                2  \n",
       "1  high school  150773  skilled employee / official                2  \n",
       "2  high school   89210       unemployed / unskilled                0  \n",
       "3  high school  171565  skilled employee / official                1  \n",
       "4  high school  149031  skilled employee / official                1  "
      ]
     },
     "execution_count": 117,
     "metadata": {},
     "output_type": "execute_result"
    }
   ],
   "source": [
    "df.head()"
   ]
  },
  {
   "cell_type": "code",
   "execution_count": 119,
   "id": "1d4575e5",
   "metadata": {},
   "outputs": [
    {
     "data": {
      "text/plain": [
       "count    2000.000000\n",
       "mean       35.909000\n",
       "std        11.719402\n",
       "min        18.000000\n",
       "25%        27.000000\n",
       "50%        33.000000\n",
       "75%        42.000000\n",
       "max        76.000000\n",
       "Name: Age, dtype: float64"
      ]
     },
     "execution_count": 119,
     "metadata": {},
     "output_type": "execute_result"
    }
   ],
   "source": [
    "df['Age'] = df['Age'].apply(pd.to_numeric, errors='coerce')\n",
    "df['Age'].describe()"
   ]
  },
  {
   "cell_type": "code",
   "execution_count": 124,
   "id": "2df4d61d",
   "metadata": {},
   "outputs": [
    {
     "data": {
      "text/plain": [
       "[Text(0.5, 1.0, 'Age Distribution KDE Plot (n=2000)')]"
      ]
     },
     "execution_count": 124,
     "metadata": {},
     "output_type": "execute_result"
    },
    {
     "data": {
      "image/png": "[encoded data removed]",
      "text/plain": [
       "<Figure size 1000x500 with 1 Axes>"
      ]
     },
     "metadata": {},
     "output_type": "display_data"
    }
   ],
   "source": [
    "plot_data = df['Age']\n",
    "plt.figure(figsize=(10,5))\n",
    "ax = sns.kdeplot(data=plot_data, \n",
    "                 fill=True)\n",
    "ax.set(title=f\"Age Distribution KDE Plot (n={len(df)})\")"
   ]
  },
  {
   "cell_type": "code",
   "execution_count": null,
   "id": "19db6ddb",
   "metadata": {},
   "outputs": [],
   "source": []
  }
 ],
 "metadata": {
  "kernelspec": {
   "display_name": "kaggle",
   "language": "python",
   "name": "python3"
  },
  "language_info": {
   "codemirror_mode": {
    "name": "ipython",
    "version": 3
   },
   "file_extension": ".py",
   "mimetype": "text/x-python",
   "name": "python",
   "nbconvert_exporter": "python",
   "pygments_lexer": "ipython3",
   "version": "3.12.10"
  }
 },
 "nbformat": 4,
 "nbformat_minor": 5
}
